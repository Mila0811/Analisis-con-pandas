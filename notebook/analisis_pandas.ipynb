{
 "cells": [
  {
   "cell_type": "code",
   "execution_count": null,
   "metadata": {},
   "outputs": [],
   "source": [
    "import pandas as pd\n",
    "\n",
    "# Cargar los datos\n",
    "df = pd.read_csv('../data/vgsales.csv')\n",
    "\n",
    "# Mostrar las primeras 10 filas\n",
    "print(df.head(10))"
   ]
  },
  {
   "cell_type": "code",
   "execution_count": null,
   "metadata": {},
   "outputs": [],
   "source": [
    "print(df.tail(5))"
   ]
  },
  {
   "cell_type": "code",
   "execution_count": null,
   "metadata": {},
   "outputs": [],
   "source": [
    "df.info()"
   ]
  },
  {
   "cell_type": "code",
   "execution_count": null,
   "metadata": {},
   "outputs": [],
   "source": [
    "print(df.describe())"
   ]
  },
  {
   "cell_type": "code",
   "execution_count": null,
   "metadata": {},
   "outputs": [],
   "source": [
    "print(df.dtypes)"
   ]
  },
  {
   "cell_type": "code",
   "execution_count": null,
   "metadata": {},
   "outputs": [],
   "source": [
    "print(df['Genre'].value_counts())"
   ]
  },
  {
   "cell_type": "code",
   "execution_count": null,
   "metadata": {},
   "outputs": [],
   "source": [
    "print(df['Platform'].unique())"
   ]
  },
  {
   "cell_type": "code",
   "execution_count": null,
   "metadata": {},
   "outputs": [],
   "source": [
    "#Filtra el DataFrame para mostrar solo las filas donde las ventas en América del Norte (NA_Sales) sean mayores a 1 millón\n",
    "\n",
    "ventas_na_mayor_1m = df[df['NA_Sales'] > 1]\n",
    "print(ventas_na_mayor_1m)\n"
   ]
  },
  {
   "cell_type": "code",
   "execution_count": null,
   "metadata": {},
   "outputs": [],
   "source": [
    "#Filtra el DataFrame para mostrar solo las filas donde las ventas en Japón (JP_Sales) sean menores a 0.1 millón\n",
    "\n",
    "ventas_jp_menor_0_1m = df[df['JP_Sales'] < 0.1]\n",
    "print(ventas_jp_menor_0_1m)\n"
   ]
  },
  {
   "cell_type": "code",
   "execution_count": null,
   "metadata": {},
   "outputs": [],
   "source": [
    "#Filtra el DataFrame utilizando query() para mostrar las filas donde el género sea \"Action\" y las ventas globales (Global_Sales) sean mayores a 2 millones\n",
    "\n",
    "ventas_action_mayor_2m = df.query('Genre == \"Action\" and Global_Sales > 2')\n",
    "print(ventas_action_mayor_2m)\n"
   ]
  },
  {
   "cell_type": "code",
   "execution_count": null,
   "metadata": {},
   "outputs": [],
   "source": [
    "#Selecciona y muestra solo las columnas Name y Global_Sales\n",
    "\n",
    "print(df[['Name', 'Global_Sales']])\n"
   ]
  },
  {
   "cell_type": "code",
   "execution_count": null,
   "metadata": {},
   "outputs": [],
   "source": [
    "#Utilizando loc[], selecciona y muestra las filas de la 5 a la 10 (inclusive) y las columnas Name y Genre\n",
    "\n",
    "print(df.loc[5:10, ['Name', 'Genre']])\n"
   ]
  },
  {
   "cell_type": "code",
   "execution_count": null,
   "metadata": {},
   "outputs": [],
   "source": [
    "#Utilizando iloc[], selecciona y muestra las primeras 5 filas y las primeras 3 columnas del DataFrame\n",
    "\n",
    "print(df.iloc[:5, :3])"
   ]
  }
 ],
 "metadata": {
  "kernelspec": {
   "display_name": "base",
   "language": "python",
   "name": "python3"
  },
  "language_info": {
   "codemirror_mode": {
    "name": "ipython",
    "version": 3
   },
   "file_extension": ".py",
   "mimetype": "text/x-python",
   "name": "python",
   "nbconvert_exporter": "python",
   "pygments_lexer": "ipython3",
   "version": "3.12.4"
  }
 },
 "nbformat": 4,
 "nbformat_minor": 2
}
